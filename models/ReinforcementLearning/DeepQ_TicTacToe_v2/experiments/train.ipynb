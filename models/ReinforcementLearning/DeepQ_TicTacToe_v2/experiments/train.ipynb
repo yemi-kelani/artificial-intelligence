{
 "cells": [
  {
   "cell_type": "markdown",
   "metadata": {
    "id": "XReCdM8kILUt"
   },
   "source": [
    "#### Optimal Opponent Experiments\n",
    "Author: Yemi Kelani"
   ]
  },
  {
   "cell_type": "markdown",
   "metadata": {
    "id": "1vNSWFUkwdXc"
   },
   "source": [
    "##### Google Drive Setup (Skip if running locally)\n",
    "\n",
    "> To run this notebook, follow these steps:\n",
    "> 1. Download the latest version of the [repository](https://github.com/yemi-kelani/artificial-intelligence/tree/master).\n",
    "> 2. Upload the repsitory files to your Google Drive account under the path `Projects/artificial-intelligence`.\n",
    "> 3. Open this file (`train.ipynb`) from your Google Drive and run the experiments."
   ]
  },
  {
   "cell_type": "code",
   "execution_count": null,
   "metadata": {
    "colab": {
     "base_uri": "https://localhost:8080/"
    },
    "executionInfo": {
     "elapsed": 17125,
     "status": "ok",
     "timestamp": 1730866117884,
     "user": {
      "displayName": "A. Kelani",
      "userId": "12102654022096104534"
     },
     "user_tz": 480
    },
    "id": "rEqTNnEdl-8u",
    "outputId": "c4d16bbd-fd7d-46b6-8558-e3c3f72eb41a"
   },
   "outputs": [],
   "source": [
    "from google.colab import drive\n",
    "drive.mount('/content/drive')"
   ]
  },
  {
   "cell_type": "code",
   "execution_count": null,
   "metadata": {
    "executionInfo": {
     "elapsed": 3,
     "status": "ok",
     "timestamp": 1730866117884,
     "user": {
      "displayName": "A. Kelani",
      "userId": "12102654022096104534"
     },
     "user_tz": 480
    },
    "id": "3IlDuGfgof5R"
   },
   "outputs": [],
   "source": [
    "ROOT_FOLDER = \"drive/MyDrive/Projects/artificial-intelligence/models/ReinforcementLearning/\"\n",
    "PROJECT_PATH = f\"{ROOT_FOLDER}/DeepQ_TicTacToe_v2\"\n",
    "NOTEBOOK_LOCATION = f\"{PROJECT_PATH}/experiments\""
   ]
  },
  {
   "cell_type": "code",
   "execution_count": null,
   "metadata": {
    "executionInfo": {
     "elapsed": 5627,
     "status": "ok",
     "timestamp": 1730866353934,
     "user": {
      "displayName": "A. Kelani",
      "userId": "12102654022096104534"
     },
     "user_tz": 480
    },
    "id": "5dji1umepw8Z"
   },
   "outputs": [],
   "source": [
    "!cp {PROJECT_PATH}/DeepQAgent.py .\n",
    "!cp {PROJECT_PATH}/TicTacToeGame.py .\n",
    "!cp {ROOT_FOLDER}/Utils.py .\n",
    "\n",
    "from DeepQAgent import DeepQAgent\n",
    "from TicTacToeGame import TicTacToeGame, OPPONENT_LEVEL\n",
    "from Utils import (\n",
    "    train_agent,\n",
    "    test_agent\n",
    ")\n",
    "MODEL_PATH = \"drive/MyDrive/Projects/artificial-intelligence/trained_models/ReinforcementLearning/TicTacToeV2\""
   ]
  },
  {
   "cell_type": "markdown",
   "metadata": {},
   "source": [
    "##### Local Setup (Skip if running remotely)\n",
    "\n",
    "> 1. Run the following cells"
   ]
  },
  {
   "cell_type": "code",
   "execution_count": null,
   "metadata": {
    "id": "S8BLUQ7N3Ors"
   },
   "outputs": [],
   "source": [
    "from models.ReinforcementLearning.DeepQ_TicTacToe_v2.DeepQAgent import DeepQAgent\n",
    "from models.ReinforcementLearning.DeepQ_TicTacToe_v2.TicTacToeGame import TicTacToeGame, OPPONENT_LEVEL\n",
    "from models.ReinforcementLearning.Utils import train_agent, test_agent\n",
    "MODEL_PATH = \"../../../../trained_models/ReinforcementLearning/TicTacToeV2\""
   ]
  },
  {
   "cell_type": "markdown",
   "metadata": {
    "id": "2kw4XZB63VyB"
   },
   "source": [
    "##### Experiments"
   ]
  },
  {
   "cell_type": "code",
   "execution_count": null,
   "metadata": {
    "colab": {
     "base_uri": "https://localhost:8080/"
    },
    "executionInfo": {
     "elapsed": 288,
     "status": "ok",
     "timestamp": 1730866380936,
     "user": {
      "displayName": "A. Kelani",
      "userId": "12102654022096104534"
     },
     "user_tz": 480
    },
    "id": "IpvCCHUX3Ge2",
    "outputId": "4c3b7b11-0c5b-46ce-d567-ddb81d290876"
   },
   "outputs": [],
   "source": [
    "import os\n",
    "import torch\n",
    "\n",
    "DEVICE = torch.device(\"cuda\" if torch.cuda.is_available() else \"cpu\")\n",
    "print(DEVICE)\n",
    "\n",
    "# DeepQ parameters\n",
    "\n",
    "# LEARNING_RATE      = 0.0005\n",
    "# MOMENTUM          = 0.90\n",
    "# NUM_EPISODES       = 100000\n",
    "# EPSILON            = 1.0\n",
    "# GAMMA              = 0.95\n",
    "# STATE_SPACE        = 9\n",
    "# ACTION_SPACE       = 9\n",
    "# HIDDEN_SIZE        = 128\n",
    "# DROPOUT            = 0.15\n",
    "# TRAIN_START        = 500\n",
    "# BATCH_SIZE         = 128\n",
    "# MEMORY_MAX_LEN     = 2000\n",
    "# USE_TARGET_NETWORK = True\n",
    "# NETWORK_SYNC_RATE  = 3\n",
    "\n",
    "LEARNING_RATE = 0.001\n",
    "MOMENTUM = 0.90\n",
    "NUM_EPISODES = 100000\n",
    "EPSILON = 1.0\n",
    "GAMMA = 0.99\n",
    "STATE_SPACE = 9\n",
    "ACTION_SPACE = 9\n",
    "HIDDEN_SIZE = 256\n",
    "DROPOUT = 0.1\n",
    "TRAIN_START = 1000\n",
    "BATCH_SIZE = 64\n",
    "MEMORY_MAX_LEN = 10000\n",
    "USE_TARGET_NETWORK = True\n",
    "NETWORK_SYNC_RATE = 100 \n",
    "\n",
    "# model save-path roots\n",
    "BASELINE = \"TicTacToe-v2-BASELINE\"\n",
    "NAIVE    = \"TicTacToe-v2-NAIVE\"\n",
    "AGENT    = \"TicTacToe-v2-AGENT\"\n",
    "OPTIMAL  = \"TicTacToe-v2-OPTIMAL\"\n",
    "SELF     = \"TicTacToe-v2-SELF\"\n",
    "\n",
    "def get_full_model_path(agent_name: str = None):\n",
    "  if agent_name is None:\n",
    "    return os.path.join(MODEL_PATH, \"DQN_checkpoint.pt\") \n",
    "  return os.path.join(MODEL_PATH, agent_name + \".pt\")\n",
    "\n",
    "def supply_model(\n",
    "  load_if_exists: bool = True, \n",
    "  agent_name: str = None,\n",
    "  optimizer_type = \"\"\n",
    "  ):\n",
    "\n",
    "  agent = DeepQAgent(\n",
    "      device             = DEVICE,\n",
    "      epsilon            = EPSILON,\n",
    "      gamma              = GAMMA,\n",
    "      state_space        = STATE_SPACE,\n",
    "      action_space       = ACTION_SPACE,\n",
    "      hidden_size        = HIDDEN_SIZE,\n",
    "      dropout            = DROPOUT,\n",
    "      train_start        = TRAIN_START,\n",
    "      batch_size         = BATCH_SIZE,\n",
    "      memory_max_len     = MEMORY_MAX_LEN,\n",
    "      use_target_network = USE_TARGET_NETWORK,\n",
    "      network_sync_rate  = NETWORK_SYNC_RATE\n",
    "  )\n",
    "\n",
    "  full_model_path = get_full_model_path(agent_name)\n",
    "  if load_if_exists and os.path.exists(full_model_path):\n",
    "    if not full_model_path.endswith(\"DQN_checkpoint.pt\"): \n",
    "      weights_only = True\n",
    "      # weights_only = not full_model_path.endswith(\"DQN_checkpoint.pt\")\n",
    "      print(\"Loading Model Parameters...\")\n",
    "      agent.load_model(filepath=full_model_path, weights_only=weights_only)\n",
    "\n",
    "  match optimizer_type.upper():\n",
    "    case \"SGD\":\n",
    "      optimizer = torch.optim.SGD(\n",
    "        agent.parameters(), \n",
    "        lr=LEARNING_RATE, \n",
    "        momentum=MOMENTUM\n",
    "      )\n",
    "    case \"RMS\":\n",
    "      optimizer = torch.optim.RMSprop(agent.parameters(), lr=LEARNING_RATE)\n",
    "    case \"ADAM\":\n",
    "      optimizer = torch.optim.Adam(agent.parameters(), lr=LEARNING_RATE)\n",
    "    case _:\n",
    "      print(f\"Unknown optimizer '{optimizer_type}', defaulting to Adam.\")\n",
    "      optimizer = torch.optim.Adam(agent.parameters(), lr=LEARNING_RATE)\n",
    "      \n",
    "  # criterion = torch.nn.SmoothL1Loss() # Huber Loss\n",
    "  criterion = torch.nn.MSELoss()\n",
    "  \n",
    "  return agent, optimizer, criterion\n",
    "\n",
    "def compare_to_naive(agent_name: str, num_episodes: int = 10000):\n",
    "  _agent, _, _ = supply_model(load_if_exists=True, agent_name=agent_name)\n",
    "  _environment = TicTacToeGame(DEVICE, None, OPPONENT_LEVEL.NAIVE, start_as_X=True)\n",
    "  test_agent(_agent, _environment, num_episodes)\n",
    "\n",
    "def compare_to_optimal(agent_name: str, num_episodes: int = 100):\n",
    "  _agent, _, _ = supply_model(load_if_exists=True, agent_name=agent_name)\n",
    "  _environment = TicTacToeGame(DEVICE, None, OPPONENT_LEVEL.OPTIMAL, start_as_X=True)\n",
    "  test_agent(_agent, _environment, num_episodes)\n",
    "\n",
    "def compare_to_model(agent_name: str, model_name: str, num_episodes: int = 10000):\n",
    "  _agent, _, _ = supply_model(load_if_exists=True, agent_name=agent_name)\n",
    "  _enemy, _, _ = supply_model(load_if_exists=True, agent_name=model_name)\n",
    "  _environment = TicTacToeGame(DEVICE, _enemy, OPPONENT_LEVEL.AGENT, start_as_X=True)\n",
    "  test_agent(_agent, _environment, num_episodes)\n"
   ]
  },
  {
   "cell_type": "code",
   "execution_count": null,
   "metadata": {
    "colab": {
     "base_uri": "https://localhost:8080/",
     "height": 73
    },
    "executionInfo": {
     "elapsed": 5852,
     "status": "ok",
     "timestamp": 1730780311679,
     "user": {
      "displayName": "A. Kelani",
      "userId": "12102654022096104534"
     },
     "user_tz": 480
    },
    "id": "zgX_xdLvxaaE",
    "outputId": "d27812ce-7610-46d3-d9fe-1badef8b5b5c"
   },
   "outputs": [],
   "source": [
    "agent, _, _ = supply_model()\n",
    "agent.save_model(MODEL_PATH, BASELINE)"
   ]
  },
  {
   "cell_type": "code",
   "execution_count": null,
   "metadata": {
    "colab": {
     "base_uri": "https://localhost:8080/"
    },
    "executionInfo": {
     "elapsed": 68624,
     "status": "ok",
     "timestamp": 1730780380300,
     "user": {
      "displayName": "A. Kelani",
      "userId": "12102654022096104534"
     },
     "user_tz": 480
    },
    "id": "KgNZkepzxkQ9",
    "outputId": "cdbd3b32-5b3f-4834-c9ec-6770290ea1ab"
   },
   "outputs": [],
   "source": [
    "compare_to_naive(BASELINE)"
   ]
  },
  {
   "cell_type": "code",
   "execution_count": null,
   "metadata": {
    "colab": {
     "base_uri": "https://localhost:8080/"
    },
    "id": "a8fX711p3rw_",
    "outputId": "1eff47fb-57b7-4c77-d996-aecbf5ee210f"
   },
   "outputs": [],
   "source": [
    "agent, optimizer, criterion = supply_model(\n",
    "    load_if_exists=True,\n",
    "    agent_name=BASELINE,\n",
    "    optimizer_type=\"ADAM\"\n",
    ")\n",
    "agent.LOG_DETAILS = False\n",
    "agent.anneal_epsilon = True\n",
    "agent.prep_cosine_anneal(0.01, 1.0, NUM_EPISODES)\n",
    "# # Alternative: Linear decay with warm restart\n",
    "# agent.epsilon_min = 0.01\n",
    "# agent.epsilon_max = 1.0\n",
    "# agent.epsilon_decay_rate = 0.9999  # Slower decay\n",
    "environment = TicTacToeGame(DEVICE, None, OPPONENT_LEVEL.NAIVE)\n",
    "metrics_naive = train_agent(\n",
    "    agent,\n",
    "    environment,\n",
    "    NUM_EPISODES // 2,  # 50k episodes\n",
    "    optimizer,\n",
    "    criterion,\n",
    "    DEVICE,\n",
    "    MODEL_PATH,\n",
    "    model_name=NAIVE,\n",
    "    save_every=5000,\n",
    ")\n",
    "agent.plot_loss_history()"
   ]
  },
  {
   "cell_type": "code",
   "execution_count": null,
   "metadata": {},
   "outputs": [],
   "source": [
    "environment.set_opponent_level(OPPONENT_LEVEL.OPTIMAL)\n",
    "agent.epsilon = 0.1  # Reset to lower exploration for optimal opponent\n",
    "metrics_optimal = train_agent(\n",
    "    agent,\n",
    "    environment,\n",
    "    NUM_EPISODES // 2,  # 50k episodes\n",
    "    optimizer,\n",
    "    criterion,\n",
    "    DEVICE,\n",
    "    MODEL_PATH,\n",
    "    model_name=OPTIMAL,\n",
    "    save_every=5000,\n",
    ")"
   ]
  },
  {
   "cell_type": "code",
   "execution_count": null,
   "metadata": {},
   "outputs": [],
   "source": [
    "agent.save_model(MODEL_PATH, \"FINAL_MODEL\")\n",
    "agent.plot_loss_history()"
   ]
  },
  {
   "cell_type": "code",
   "execution_count": null,
   "metadata": {},
   "outputs": [],
   "source": [
    "compare_to_naive(f\"{NAIVE}-10K\")\n",
    "compare_to_optimal(f\"{NAIVE}-10K\")"
   ]
  },
  {
   "cell_type": "code",
   "execution_count": null,
   "metadata": {},
   "outputs": [],
   "source": [
    "compare_to_naive(f\"{NAIVE}-20K\")\n",
    "compare_to_optimal(f\"{NAIVE}-20K\")"
   ]
  },
  {
   "cell_type": "code",
   "execution_count": null,
   "metadata": {},
   "outputs": [],
   "source": [
    "compare_to_naive(f\"{NAIVE}-30K\")\n",
    "compare_to_optimal(f\"{NAIVE}-30K\")"
   ]
  },
  {
   "cell_type": "code",
   "execution_count": null,
   "metadata": {},
   "outputs": [],
   "source": [
    "compare_to_naive(f\"{NAIVE}-40K\")\n",
    "compare_to_optimal(f\"{NAIVE}-40K\")"
   ]
  },
  {
   "cell_type": "code",
   "execution_count": null,
   "metadata": {},
   "outputs": [],
   "source": [
    "compare_to_naive(f\"{NAIVE}-50K\")\n",
    "compare_to_optimal(f\"{NAIVE}-50K\")"
   ]
  },
  {
   "cell_type": "code",
   "execution_count": null,
   "metadata": {},
   "outputs": [],
   "source": [
    "compare_to_naive(f\"{NAIVE}-60K\")\n",
    "compare_to_optimal(f\"{NAIVE}-60K\")"
   ]
  },
  {
   "cell_type": "code",
   "execution_count": null,
   "metadata": {},
   "outputs": [],
   "source": [
    "compare_to_naive(f\"{NAIVE}-70K\")\n",
    "compare_to_optimal(f\"{NAIVE}-70K\")"
   ]
  },
  {
   "cell_type": "code",
   "execution_count": null,
   "metadata": {},
   "outputs": [],
   "source": [
    "compare_to_naive(f\"{NAIVE}-80K\")\n",
    "compare_to_optimal(f\"{NAIVE}-80K\")"
   ]
  },
  {
   "cell_type": "code",
   "execution_count": null,
   "metadata": {},
   "outputs": [],
   "source": [
    "compare_to_naive(f\"{OPTIMAL}-5K\")\n",
    "compare_to_optimal(f\"{NAIVE}-5K\")"
   ]
  },
  {
   "cell_type": "code",
   "execution_count": null,
   "metadata": {},
   "outputs": [],
   "source": [
    "compare_to_naive(f\"{OPTIMAL}-10K\")\n",
    "compare_to_optimal(f\"{NAIVE}-10K\")"
   ]
  },
  {
   "cell_type": "code",
   "execution_count": null,
   "metadata": {},
   "outputs": [],
   "source": [
    "compare_to_naive(f\"{OPTIMAL}-15K\")\n",
    "compare_to_optimal(f\"{NAIVE}-15K\")"
   ]
  },
  {
   "cell_type": "code",
   "execution_count": null,
   "metadata": {},
   "outputs": [],
   "source": [
    "compare_to_naive(f\"{OPTIMAL}-20K\")\n",
    "compare_to_optimal(f\"{NAIVE}-20K\")"
   ]
  },
  {
   "cell_type": "code",
   "execution_count": null,
   "metadata": {},
   "outputs": [],
   "source": [
    "compare_to_naive(f\"{OPTIMAL}-25K\")\n",
    "compare_to_optimal(f\"{NAIVE}-25K\")"
   ]
  },
  {
   "cell_type": "code",
   "execution_count": null,
   "metadata": {},
   "outputs": [],
   "source": []
  },
  {
   "cell_type": "code",
   "execution_count": null,
   "metadata": {},
   "outputs": [],
   "source": []
  }
 ],
 "metadata": {
  "accelerator": "GPU",
  "colab": {
   "authorship_tag": "ABX9TyOnbY0pxlm6JTS4enhO6PPu",
   "collapsed_sections": [
    "rOHKJqHY22Ga"
   ],
   "gpuType": "T4",
   "provenance": []
  },
  "kernelspec": {
   "display_name": ".venv",
   "language": "python",
   "name": "python3"
  },
  "language_info": {
   "codemirror_mode": {
    "name": "ipython",
    "version": 3
   },
   "file_extension": ".py",
   "mimetype": "text/x-python",
   "name": "python",
   "nbconvert_exporter": "python",
   "pygments_lexer": "ipython3",
   "version": "3.10.2"
  }
 },
 "nbformat": 4,
 "nbformat_minor": 0
}
