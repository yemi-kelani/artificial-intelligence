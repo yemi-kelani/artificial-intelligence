{
  "cells": [
    {
      "attachments": {},
      "cell_type": "markdown",
      "metadata": {
        "id": "gD2rQzaXh7eV"
      },
      "source": [
        "## Sequence-to-Sequence Transformer Model\n",
        "#### ELEC-ENG 435: Final Project\n",
        "Yemi Kelani\n",
        "\n",
        "\n",
        "Training data was sourced from [huggingface](https://huggingface.co/datasets/dair-ai/emotion)\n",
        "\n",
        "---"
      ]
    },
    {
      "attachments": {},
      "cell_type": "markdown",
      "metadata": {
        "id": "1EMt1zOqiP0l"
      },
      "source": [
        "##### **Background and Motivation**\n",
        "Natural Language Processing is a powerful tool that allows machines to process and understand human speech. Consequently it has a wide array of applications ranging from sentiment analysis to text generation and more. Open AI’s ChatGPT alone has managed to amass over one hundred million users within two months of launching. With companies like Bing and Google racing to incorporate NLP AI into their products, it’s clear that this branch of machine learning is here to stay.\n",
        "\n",
        "##### **Project Goals and Objectives**\n",
        "I aim to implement a sequence-to-sequence model using pytorch, a popular deep learning framework. Given that such a model will necessarily take time to adequately train, I am more concerned with understanding and implementing the fundamental elements of a sequence-to-sequence model (encoder, decoder, attention, etc.) as opposed to maximizing its overall performance.\n",
        "\n",
        "I'll be implementing the transformer model, and necessary equations, described in the popular \"*Attention is all you need\" [(Vaswani et al 2017)](https://arxiv.org/pdf/1706.03762.pdf)* research paper.\n",
        "\n",
        "\n",
        "I will then train the model on the [Emotion](https://huggingface.co/datasets/dair-ai/emotion) dataset and record its accuracy over a few epochs. The emotion dataset maps pieces of text to labels indicating their classified emotion. As I mentioned in the project proposal and above, the purpose of this project is to better understand transformers and their base components by implementing one from scratch, not maximize the performance of the model on a given task. This allows me to keep the scope of the project reasonable.\n",
        "\n",
        "---"
      ]
    },
    {
      "cell_type": "code",
      "execution_count": 178,
      "metadata": {
        "id": "fMtB5ipClDmm"
      },
      "outputs": [],
      "source": [
        "import torch\n",
        "import torch.nn as nn\n",
        "import torch.nn.functional as F\n",
        "from torch.utils.data.dataset import Dataset\n",
        "\n",
        "# torch config\n",
        "device = torch.device(\"cuda\" if torch.cuda.is_available() else \"cpu\")"
      ]
    },
    {
      "attachments": {},
      "cell_type": "markdown",
      "metadata": {
        "id": "BoXvWUB1sZ-x"
      },
      "source": [
        "---\n",
        "#### **Transformer Model**\n",
        "\n",
        "Transformers are sequence-to-sequence models which utilize self-attention and are comprised of two primary components: an encoder and a decoder. Both components contain similar base operations which can be viewed in the diagram below. Notable elements include: Context Embedding, Positional Encoding, Multi-Head Attention, Feed Forward Neural Network, and Normalization.\n",
        "\n",
        "<img src=\"https://machinelearningmastery.com/wp-content/uploads/2021/08/attention_research_1.png\" width=\"350\" height=\"475\">\n",
        "\n",
        "Image source: (Vaswani et al 2017, Page 3)"
      ]
    },
    {
      "cell_type": "code",
      "execution_count": 13,
      "metadata": {
        "id": "bcBlyzDEb-Xj"
      },
      "outputs": [],
      "source": [
        "class Transformer(nn.Module):\n",
        "  def __init__(self, ec_vocab_size, dc_vocab_size, output_size, embedding_size, \n",
        "               hidden_size, num_heads=1, max_sequence_length=128, dropout=0.1, \n",
        "               num_layers=1):\n",
        "    super(Transformer, self).__init__()\n",
        "    self.embedding_encoder = nn.Embedding(ec_vocab_size, embedding_size)\n",
        "    self.embedding_decoder = nn.Embedding(dc_vocab_size, embedding_size)\n",
        "    \n",
        "    # positionally encode with custom classes\n",
        "    self.pe_encoder = PositionalEncoder(embedding_size, max_sequence_length)\n",
        "    self.pe_decoder = PositionalEncoder(embedding_size, max_sequence_length)\n",
        "\n",
        "    # init encoder, decoder layers\n",
        "    self.encoder_layers = nn.ModuleList([\n",
        "        EncoderLayer(embedding_size, hidden_size, num_heads, dropout)\n",
        "        for _ in range(num_layers)\n",
        "    ])\n",
        "    self.decoder_layers = nn.ModuleList([\n",
        "        DecoderLayer(embedding_size, hidden_size, num_heads, dropout)\n",
        "        for _ in range(num_layers)\n",
        "    ])\n",
        "\n",
        "    # linear layer, no softmax\n",
        "    self.linear = nn.Linear(embedding_size, output_size)\n",
        "\n",
        "  def forward(self, encoder_input, decoder_input, encoder_mask=None, \n",
        "              decoder_mask=None):\n",
        "    encoder_input = self.embedding_encoder(encoder_input)\n",
        "    encoder_input = self.pe_encoder(encoder_input)\n",
        "\n",
        "    decoder_input = self.embedding_decoder(decoder_input)\n",
        "    decoder_input = self.pe_decoder(decoder_input)\n",
        "\n",
        "    # process inputs through layers\n",
        "    encoder_output = encoder_input\n",
        "    for layer in self.encoder_layers:\n",
        "      encoder_output = layer(encoder_output, encoder_mask)\n",
        "\n",
        "    decoder_output = decoder_input\n",
        "    for layer in self.decoder_layers:\n",
        "      decoder_output = layer(decoder_output, encoder_output, \n",
        "                             encoder_mask, decoder_mask)\n",
        "\n",
        "    logits = self.linear(decoder_output)\n",
        "    return logits\n"
      ]
    },
    {
      "attachments": {},
      "cell_type": "markdown",
      "metadata": {
        "id": "MK8-9Q8Rq_lv"
      },
      "source": [
        "##### **Method and Results**\n",
        "I disguised my classification task as a text generation task where the vocabulary of the model's generations was limited to the tokens used to classify the features. For example, the vocabulary consisted of the tokens 'sadness' and 'joy'. I then passed the same encoded inputs to both the encoder and decoder and generated results over the vocabulary to classify them. No attention masks were used. All code is posted in the Appendix.\n",
        "\n",
        "I was able to achieve an **accuracy of 72.98%** on the training dataset which is much higher than a baseline of random guessing (which is 16% given that there are 6 total classes). Cost and Accuracy curves can be viewed in the Appendix.\n",
        "\n",
        "##### **Obstacles**\n",
        "Training this transformer was a nightmare. I spent hours configuring the parameters, testing different loss criterions, fixing and debugging errors, and more. A bit difficulty came in addressing the lack of attention masks used for training. I used a lot of '[PAD]' tokens to ensure the transformer could train in batches of the same sequence length. This also meant that the model was learning representations for these tokens where it should've ignored them. Ultimately, I was unable to mitigate its effects and just had to reinitialize the weights of the model until it could train well.\n",
        "\n",
        "Aside from that, this project was a large undertaking for me. I implemented the classes from scratch, save multi-head attention, embedding, and Layernorm. I had initially planned to do text generation with this model, however, preprocessing a large corpus, implementing beam search, and other factors would have made this project's scope too large.\n",
        "\n",
        "##### **Conclusion**\n",
        "From reading the \"Attention is all you need\" paper to constructing the classes for the model's components, I feel as though I better understand transformers and how they work. If I were to further iterate upon this project, I would try focusing on text generation and implementing generating schemes like beam search or controlled generation. I would also implement comprehensive metrics such as Perplexity and the BLUE score."
      ]
    },
    {
      "attachments": {},
      "cell_type": "markdown",
      "metadata": {
        "id": "Yoh6EXrxilnD"
      },
      "source": [
        "##### **Appendix**\n",
        "\n",
        "Code for the PositionalEncoder, EncoderLayer, DecoderLayer, training, etc. can be viewed below.\n",
        "\n",
        "---"
      ]
    },
    {
      "cell_type": "code",
      "execution_count": 14,
      "metadata": {
        "id": "U5zXs8islbe8"
      },
      "outputs": [],
      "source": [
        "class PositionalEncoder(nn.Module):\n",
        "  def __init__(self, embedding_size, max_sequence_length=128, dropout=0.0):\n",
        "    super(PositionalEncoder, self).__init__()\n",
        "    \n",
        "    # dropout\n",
        "    self.dropout = nn.Dropout(dropout)\n",
        "\n",
        "    # positional encoding\n",
        "    pe = torch.zeros(max_sequence_length, embedding_size)\n",
        "    for position in range(max_sequence_length):\n",
        "      for i in range(0, embedding_size, 2):\n",
        "        theta = position / (10000 ** ((2 * i) / embedding_size))\n",
        "        pe[position, i] = np.sin(theta)\n",
        "        pe[position, i + 1] = np.cos(theta)\n",
        "\n",
        "    # pack it together (add dimension)\n",
        "    pe = pe.unsqueeze(0)\n",
        "    \n",
        "    # the positional encoding should not be trained by\n",
        "    # the optimizer, but should be saved to the dict for\n",
        "    # loading/reloading, so register buffer is used here\n",
        "    self.register_buffer('pe', pe)\n",
        "  \n",
        "  def forward(self, x):\n",
        "    # add positional encoding to input embeddings (x)\n",
        "    x = x + self.pe[:, :x.size(1)] # shape (1, seq_len, embedding_size)\n",
        "    return self.dropout(x)"
      ]
    },
    {
      "cell_type": "code",
      "execution_count": 15,
      "metadata": {
        "id": "NpX4xhbsohsa"
      },
      "outputs": [],
      "source": [
        "class EncoderLayer(nn.Module):\n",
        "  def __init__(self, embedding_size, hidden_size, num_heads, dropout=0.1):\n",
        "    super(EncoderLayer, self).__init__()\n",
        "\n",
        "    # multi-head attention, dropout\n",
        "    self.multihead_attention = nn.MultiheadAttention(embedding_size, num_heads)\n",
        "    self.dropout_1 = nn.Dropout(dropout)\n",
        "    self.dropout_2 = nn.Dropout(dropout)\n",
        "\n",
        "    # layer normalization\n",
        "    self.norm_layer_1 = nn.LayerNorm(embedding_size)\n",
        "    self.norm_layer_2 = nn.LayerNorm(embedding_size)\n",
        "\n",
        "    # feed forward specified by paper\n",
        "    self.feedforward = nn.Sequential(\n",
        "        nn.Linear(embedding_size, hidden_size),\n",
        "        nn.ReLU(),\n",
        "        nn.Linear(hidden_size, embedding_size)\n",
        "    )\n",
        "\n",
        "  def forward(self, x, encoder_mask=None):\n",
        "    attn_output, _ = self.multihead_attention(x, x, x, attn_mask=encoder_mask)\n",
        "    out = x + self.dropout_1(attn_output) # residual connection\n",
        "    out = self.norm_layer_1(out)\n",
        "\n",
        "    out = self.feedforward(out)\n",
        "    out = out + self.dropout_2(out) # residual connection\n",
        "    out = self.norm_layer_2(out)\n",
        "\n",
        "    return out"
      ]
    },
    {
      "cell_type": "code",
      "execution_count": 16,
      "metadata": {
        "id": "Q9gQZVKUpCgV"
      },
      "outputs": [],
      "source": [
        "class DecoderLayer(nn.Module):\n",
        "  def __init__(self, embedding_size, hidden_size, num_heads, dropout=0.1):\n",
        "    super(DecoderLayer, self).__init__()\n",
        "    \n",
        "    # multi-head attention, dropout\n",
        "    self.multihead_attention = nn.MultiheadAttention(embedding_size, num_heads)\n",
        "    self.masked_multihead_attention = nn.MultiheadAttention(embedding_size, \n",
        "                                                            num_heads)\n",
        "    self.dropout_1 = nn.Dropout(dropout)\n",
        "    self.dropout_2 = nn.Dropout(dropout)\n",
        "    self.dropout_3 = nn.Dropout(dropout)\n",
        "\n",
        "    # layer normalization\n",
        "    self.norm_layer_1 = nn.LayerNorm(embedding_size)\n",
        "    self.norm_layer_2 = nn.LayerNorm(embedding_size)\n",
        "    self.norm_layer_3 = nn.LayerNorm(embedding_size)\n",
        "\n",
        "    # feed forward specified by paper\n",
        "    self.feedforward = nn.Sequential(\n",
        "        nn.Linear(embedding_size, hidden_size),\n",
        "        nn.ReLU(),\n",
        "        nn.Linear(hidden_size, embedding_size)\n",
        "    )\n",
        "  \n",
        "  def forward(self, x, encoder_output, encoder_mask=None, decoder_mask=None):\n",
        "    attn_output, _ = self.multihead_attention(x, x, x, attn_mask=decoder_mask)\n",
        "    out = x + self.dropout_1(attn_output) # residual connection\n",
        "    out = self.norm_layer_1(out)\n",
        "\n",
        "    attn_output, _ = self.masked_multihead_attention(\n",
        "        out, encoder_output, encoder_output, attn_mask=encoder_mask)\n",
        "    out = out + self.dropout_2(attn_output) # residual connection\n",
        "    out = self.norm_layer_2(out)\n",
        "\n",
        "    out = self.feedforward(out)\n",
        "    out = out + self.dropout_3(out)\n",
        "    out = self.norm_layer_3(out)\n",
        "\n",
        "    return out"
      ]
    },
    {
      "cell_type": "code",
      "execution_count": 17,
      "metadata": {
        "colab": {
          "base_uri": "https://localhost:8080/",
          "height": 0
        },
        "id": "GnPjmG2j4zss",
        "outputId": "5b4c475d-ef22-4c45-b3a1-70d0b687db6d"
      },
      "outputs": [
        {
          "name": "stdout",
          "output_type": "stream",
          "text": [
            "Drive already mounted at /content/drive; to attempt to forcibly remount, call drive.mount(\"/content/drive\", force_remount=True).\n"
          ]
        }
      ],
      "source": [
        "from google.colab import drive\n",
        "drive.mount('/content/drive')"
      ]
    },
    {
      "cell_type": "code",
      "execution_count": 18,
      "metadata": {
        "colab": {
          "base_uri": "https://localhost:8080/",
          "height": 0
        },
        "id": "DPvrKEKI2OUh",
        "outputId": "1e8b6907-cfd9-402a-b310-d6b7970f73e2"
      },
      "outputs": [
        {
          "name": "stdout",
          "output_type": "stream",
          "text": [
            "\u001b[31mERROR: pip's dependency resolver does not currently take into account all the packages that are installed. This behaviour is the source of the following dependency conflicts.\n",
            "multiprocess 0.70.14 requires dill>=0.3.6, but you have dill 0.3.1.1 which is incompatible.\u001b[0m\u001b[31m\n",
            "\u001b[0m\u001b[31mERROR: pip's dependency resolver does not currently take into account all the packages that are installed. This behaviour is the source of the following dependency conflicts.\n",
            "apache-beam 2.46.0 requires dill<0.3.2,>=0.3.1.1, but you have dill 0.3.6 which is incompatible.\u001b[0m\u001b[31m\n",
            "\u001b[0m"
          ]
        }
      ],
      "source": [
        "!pip install -q apache_beam mwparserfromhell\n",
        "!pip install -q datasets\n",
        "from datasets import load_dataset\n",
        "\n",
        "!pip install -q transformers\n",
        "from transformers import AutoTokenizer, AutoConfig\n",
        "\n",
        "import time\n",
        "import numpy as np\n",
        "from tqdm import tqdm"
      ]
    },
    {
      "cell_type": "code",
      "execution_count": 507,
      "metadata": {
        "id": "2WE-B-j7f6H7"
      },
      "outputs": [],
      "source": [
        "# parameters\n",
        "EMBEDDING_SIZE = 100\n",
        "NUM_HEADS      = 1\n",
        "NUM_LAYERS     = 1\n",
        "HIDDEN_SIZE    = 100\n",
        "DROPOUT        = 0.15\n",
        "MAX_SEQ_LEN    = 64\n",
        "LR             = 0.0001\n",
        "BATCH_SIZE     = 128\n",
        "EPOCHS         = 10\n",
        "\n",
        "# emotions classes\n",
        "class_names = ['sadness', 'joy', 'love', 'anger', 'fear', 'surprise']\n",
        "\n",
        "# helper functions\n",
        "def init_model_weights(model: nn.Module):\n",
        "  for p in model.parameters():\n",
        "    if p.dim() > 1:\n",
        "        nn.init.xavier_uniform_(p)\n",
        "\n",
        "CONFIG_PATH = \"/content/drive/MyDrive/EE 435/config.json\"\n",
        "TOKENIZER_PATH = \"/content/drive/MyDrive/EE 435/emotion-tokenizer.json\"\n",
        "def get_tokenizer(dataset: Dataset, save_path=\"\", load_path=\"\", config_path=\"\"):\n",
        "  if load_path != \"\":\n",
        "    tokenizer = AutoTokenizer.from_pretrained(\n",
        "        load_path, \n",
        "        config=AutoConfig.from_pretrained(config_path))\n",
        "    return tokenizer\n",
        "  \n",
        "  tokenizer = AutoTokenizer.from_pretrained(\"gpt2\")\n",
        "  def tokenize_data(data):\n",
        "      return tokenizer(data[\"text\"], truncation=True, max_length=512)\n",
        "  dataset = dataset.map(tokenize_data, batched=True)\n",
        "  tokenizer.add_special_tokens({'pad_token': '[PAD]'})\n",
        "\n",
        "  tokenizer.save_pretrained(save_path)\n",
        "  return tokenizer\n",
        "\n",
        "def train(model: nn.Module, dataset: Dataset, epochs: int, batch_size: int):\n",
        "  model.train()\n",
        "\n",
        "  cost = []\n",
        "  accuracy = []\n",
        "\n",
        "  for epoch in tqdm(range(epochs)):\n",
        "\n",
        "    count = 0\n",
        "    correct = 0\n",
        "    epoch_loss = 0 \n",
        "\n",
        "    for i in range(0, dataset.__len__(), batch_size):\n",
        "      batch = dataset[i]\n",
        "\n",
        "      text = list(batch[:, 0])\n",
        "      labels = batch[:, 1].astype(int)\n",
        "      labels = torch.Tensor(labels).type(torch.LongTensor).to(device)\n",
        "\n",
        "      encoding = tokenizer(text, truncation=True, max_length=MAX_SEQ_LEN, \n",
        "                     padding=\"max_length\", return_attention_mask=False, \n",
        "                     return_tensors=\"pt\")\n",
        "\n",
        "      encoding['input_ids'] = encoding['input_ids'].to(device)\n",
        "\n",
        "      optimizer.zero_grad()\n",
        "\n",
        "      out = model.forward(\n",
        "          encoding['input_ids'],\n",
        "          encoding['input_ids']\n",
        "      )\n",
        "      out = torch.mean(out, dim=1)\n",
        "\n",
        "      probabilities = F.softmax(out, dim=1)\n",
        "      predicted_labels = torch.argmax(probabilities, dim=1)\n",
        "\n",
        "      loss = criterion(out, labels)\n",
        "      epoch_loss += loss.item()\n",
        "      loss.backward()\n",
        "      optimizer.step()\n",
        "\n",
        "      count += batch_size\n",
        "      for i, l in enumerate(labels): \n",
        "        if predicted_labels[i] == labels[i]:\n",
        "          correct += 1\n",
        "    \n",
        "    cost.append(epoch_loss/count)\n",
        "    accuracy.append(correct/count)\n",
        "    print(f\"epoch: {epoch}, accuracy: {accuracy[-1]}, loss: {cost[-1]}\")\n",
        "  \n",
        "  return cost, accuracy"
      ]
    },
    {
      "cell_type": "code",
      "execution_count": 277,
      "metadata": {
        "id": "HxezZ5h0aKwF"
      },
      "outputs": [],
      "source": [
        "class BalancedEmotionDataset(Dataset):\n",
        "  def __init__(self, data, batch_size):\n",
        "    super(BalancedEmotionDataset, self).__init__()\n",
        "    self.data = self.balance_classes(data)\n",
        "    self._len = self.data.shape[0]\n",
        "    self.batch_size = batch_size\n",
        "  \n",
        "  def __len__(self):\n",
        "    return self._len\n",
        "  \n",
        "  def __getitem__(self, i):\n",
        "    return self.data[i:i+self.batch_size]\n",
        "\n",
        "  def balance_classes(self, dataset: Dataset):\n",
        "    class_records = {\n",
        "        0: [[], 0], 1: [[], 0], 2: [[], 0], 3: [[], 0], 4: [[], 0], 5: [[], 0]\n",
        "    }\n",
        "\n",
        "    max_count = 30000\n",
        "    for i in range(len(dataset['train'])):\n",
        "      label = dataset['train'][i]['label']\n",
        "      text  = dataset['train'][i]['text']\n",
        "\n",
        "      if class_records[label][1] < max_count:\n",
        "        class_records[label][0].append([text, label])\n",
        "        class_records[label][1] += 1\n",
        "    \n",
        "    grouped = (\n",
        "        class_records[0][0],\n",
        "        class_records[1][0],\n",
        "        class_records[2][0],\n",
        "        class_records[3][0],\n",
        "        class_records[4][0],\n",
        "        class_records[5][0]\n",
        "    )\n",
        "\n",
        "    data = np.concatenate(grouped, axis=0)\n",
        "    np.random.shuffle(data)\n",
        "    return data"
      ]
    },
    {
      "cell_type": "code",
      "execution_count": 278,
      "metadata": {
        "colab": {
          "base_uri": "https://localhost:8080/",
          "height": 87,
          "referenced_widgets": [
            "31c352385d81427b9120666220e9b062",
            "ab5944c3cf7540208470ad96de1059ea",
            "d69d172625084f42adac19563f2560ad",
            "022c981ec53e4c35a502c0a6758011d3",
            "a1ffdf2315e741bab725dbd30cd548e3",
            "4cdb8c2afc154704a57a913987dce892",
            "4f7b1f1ac983434ca2f7faf631f7a3db",
            "ca4e0e8d99a94a88ad0ab43e31ae88a1",
            "8e704a3d2e864b4c9241b4f647f1ef06",
            "7ab92216f9c442bcb6bf32a564e14279",
            "6cb5945915154c1f85764e95b6248a2a"
          ]
        },
        "id": "HUvzlgEshQB4",
        "outputId": "fec65af6-92f2-4282-886b-7b2b09d6cc9a"
      },
      "outputs": [
        {
          "name": "stderr",
          "output_type": "stream",
          "text": [
            "WARNING:datasets.builder:Found cached dataset emotion (/root/.cache/huggingface/datasets/emotion/unsplit/1.0.0/cca5efe2dfeb58c1d098e0f9eeb200e9927d889b5a03c67097275dfb5fe463bd)\n"
          ]
        },
        {
          "data": {
            "application/vnd.jupyter.widget-view+json": {
              "model_id": "31c352385d81427b9120666220e9b062",
              "version_major": 2,
              "version_minor": 0
            },
            "text/plain": [
              "  0%|          | 0/1 [00:00<?, ?it/s]"
            ]
          },
          "metadata": {},
          "output_type": "display_data"
        }
      ],
      "source": [
        "raw_dataset = load_dataset(\"emotion\", \"unsplit\")\n",
        "dataset = BalancedEmotionDataset(raw_dataset, BATCH_SIZE)"
      ]
    },
    {
      "cell_type": "code",
      "execution_count": 289,
      "metadata": {
        "colab": {
          "base_uri": "https://localhost:8080/",
          "height": 0
        },
        "id": "iG2Q9eyO4CLc",
        "outputId": "12aae859-bb9f-4af1-91d3-db5052c83caf"
      },
      "outputs": [
        {
          "name": "stderr",
          "output_type": "stream",
          "text": [
            "WARNING:datasets.arrow_dataset:Loading cached processed dataset at /root/.cache/huggingface/datasets/emotion/unsplit/1.0.0/cca5efe2dfeb58c1d098e0f9eeb200e9927d889b5a03c67097275dfb5fe463bd/cache-8119b3d59ecb2eca.arrow\n"
          ]
        }
      ],
      "source": [
        "tokenizer = get_tokenizer(raw_dataset, save_path=TOKENIZER_PATH) # create/save\n",
        "# tokenizer = get_tokenizer(dataset, \n",
        "#                           load_path=TOKENIZER_PATH, \n",
        "#                           config_path=CONFIG_PATH) # load tokenizer"
      ]
    },
    {
      "cell_type": "code",
      "execution_count": 22,
      "metadata": {
        "id": "DD8bd7O-uCMI"
      },
      "outputs": [],
      "source": [
        "# !rm /root/.cache/huggingface/datasets/emotion/split/1.0.0/cca5efe2dfeb58c1d098e0f9eeb200e9927d889b5a03c67097275dfb5fe463bd/cache-c2ca0c84ab5b810e.arrow"
      ]
    },
    {
      "cell_type": "code",
      "execution_count": 503,
      "metadata": {
        "id": "vjcLGuY-g6sm"
      },
      "outputs": [],
      "source": [
        "ec_vocab_size = tokenizer.vocab_size + 1\n",
        "dc_vocab_size = tokenizer.vocab_size + 1\n",
        "output_size = len(class_names)\n",
        "\n",
        "model = Transformer(\n",
        "    ec_vocab_size, dc_vocab_size,\n",
        "    output_size, EMBEDDING_SIZE, \n",
        "    HIDDEN_SIZE, NUM_HEADS, MAX_SEQ_LEN, \n",
        "    DROPOUT, NUM_LAYERS)\n",
        "\n",
        "init_model_weights(model)\n",
        "model = model.to(device)\n",
        "\n",
        "optimizer = torch.optim.Adam(model.parameters(), lr=LR)\n",
        "\n",
        "criterion = nn.CrossEntropyLoss()"
      ]
    },
    {
      "cell_type": "code",
      "execution_count": 508,
      "metadata": {
        "colab": {
          "base_uri": "https://localhost:8080/",
          "height": 0
        },
        "id": "WdweTwDD3s6O",
        "outputId": "6432a1cd-c3b9-4e19-ebf9-41f086344445"
      },
      "outputs": [
        {
          "name": "stderr",
          "output_type": "stream",
          "text": [
            " 10%|█         | 1/10 [00:37<05:33, 37.11s/it]"
          ]
        },
        {
          "name": "stdout",
          "output_type": "stream",
          "text": [
            "epoch: 0, accuracy: 0.1932093677269201, loss: 0.013850767670460826\n"
          ]
        },
        {
          "name": "stderr",
          "output_type": "stream",
          "text": [
            "\r 20%|██        | 2/10 [01:14<04:58, 37.36s/it]"
          ]
        },
        {
          "name": "stdout",
          "output_type": "stream",
          "text": [
            "epoch: 1, accuracy: 0.3186578743211792, loss: 0.013144250365972658\n"
          ]
        },
        {
          "name": "stderr",
          "output_type": "stream",
          "text": [
            "\r 30%|███       | 3/10 [01:50<04:17, 36.82s/it]"
          ]
        },
        {
          "name": "stdout",
          "output_type": "stream",
          "text": [
            "epoch: 2, accuracy: 0.43494230023273855, loss: 0.012084872969061345\n"
          ]
        },
        {
          "name": "stderr",
          "output_type": "stream",
          "text": [
            "\r 40%|████      | 4/10 [02:41<04:13, 42.18s/it]"
          ]
        },
        {
          "name": "stdout",
          "output_type": "stream",
          "text": [
            "epoch: 3, accuracy: 0.4903874127230411, loss: 0.01139360302994194\n"
          ]
        },
        {
          "name": "stderr",
          "output_type": "stream",
          "text": [
            "\r 50%|█████     | 5/10 [03:33<03:49, 45.92s/it]"
          ]
        },
        {
          "name": "stdout",
          "output_type": "stream",
          "text": [
            "epoch: 4, accuracy: 0.5321773176881304, loss: 0.010775039075094198\n"
          ]
        },
        {
          "name": "stderr",
          "output_type": "stream",
          "text": [
            "\r 60%|██████    | 6/10 [04:14<02:57, 44.27s/it]"
          ]
        },
        {
          "name": "stdout",
          "output_type": "stream",
          "text": [
            "epoch: 5, accuracy: 0.574088440651668, loss: 0.01013847293738273\n"
          ]
        },
        {
          "name": "stderr",
          "output_type": "stream",
          "text": [
            "\r 70%|███████   | 7/10 [05:11<02:25, 48.40s/it]"
          ]
        },
        {
          "name": "stdout",
          "output_type": "stream",
          "text": [
            "epoch: 6, accuracy: 0.6198421741660202, loss: 0.009455174406379161\n"
          ]
        },
        {
          "name": "stderr",
          "output_type": "stream",
          "text": [
            "\r 80%|████████  | 8/10 [05:55<01:33, 46.96s/it]"
          ]
        },
        {
          "name": "stdout",
          "output_type": "stream",
          "text": [
            "epoch: 7, accuracy: 0.6611714507370055, loss: 0.008772961467669234\n"
          ]
        },
        {
          "name": "stderr",
          "output_type": "stream",
          "text": [
            "\r 90%|█████████ | 9/10 [06:32<00:43, 43.85s/it]"
          ]
        },
        {
          "name": "stdout",
          "output_type": "stream",
          "text": [
            "epoch: 8, accuracy: 0.693179063227308, loss: 0.00817949596728878\n"
          ]
        },
        {
          "name": "stderr",
          "output_type": "stream",
          "text": [
            "100%|██████████| 10/10 [07:08<00:00, 42.89s/it]"
          ]
        },
        {
          "name": "stdout",
          "output_type": "stream",
          "text": [
            "epoch: 9, accuracy: 0.7298293250581847, loss: 0.007533648084918481\n"
          ]
        },
        {
          "name": "stderr",
          "output_type": "stream",
          "text": [
            "\n"
          ]
        }
      ],
      "source": [
        "cost, acc = train(model, dataset, EPOCHS, BATCH_SIZE)"
      ]
    },
    {
      "cell_type": "code",
      "execution_count": 511,
      "metadata": {
        "id": "OX8hEIcWbUip"
      },
      "outputs": [],
      "source": [
        "# SAVE MODEL\n",
        "TRANSFORMER_SAVE = \"/content/drive/MyDrive/EE 435/TransformerModelEmotion.pt\"\n",
        "torch.save(model.state_dict(), TRANSFORMER_SAVE)"
      ]
    },
    {
      "cell_type": "code",
      "execution_count": 510,
      "metadata": {
        "colab": {
          "base_uri": "https://localhost:8080/",
          "height": 581
        },
        "id": "hIKCTrj061nw",
        "outputId": "f52a39ab-726d-4ddf-948d-edb4d2077540"
      },
      "outputs": [
        {
          "data": {
            "image/png": "[encoded data removed]",
            "text/plain": [
              "<Figure size 432x288 with 1 Axes>"
            ]
          },
          "metadata": {
            "needs_background": "light"
          },
          "output_type": "display_data"
        },
        {
          "data": {
            "image/png": "[encoded data removed]",
            "text/plain": [
              "<Figure size 432x288 with 1 Axes>"
            ]
          },
          "metadata": {
            "needs_background": "light"
          },
          "output_type": "display_data"
        }
      ],
      "source": [
        "import matplotlib.pyplot as plt\n",
        "k_axis = [k for k in range(len(cost))]\n",
        "plt.plot(k_axis, cost, label=f\"cost\")\n",
        "plt.title(\"cost\")\n",
        "plt.xlabel(\"$epoch$\")\n",
        "plt.ylabel(\"$cost$\")\n",
        "plt.legend()\n",
        "plt.show()\n",
        "\n",
        "plt.plot(k_axis, acc, label=f\"accuracy\", c=\"purple\")\n",
        "plt.title(\"accuracy\")\n",
        "plt.xlabel(\"$epoch$\")\n",
        "plt.ylabel(\"$accuracy$\")\n",
        "plt.legend()\n",
        "plt.show()"
      ]
    }
  ],
  "metadata": {
    "accelerator": "GPU",
    "colab": {
      "provenance": []
    },
    "gpuClass": "standard",
    "kernelspec": {
      "display_name": "Python 3",
      "name": "python3"
    },
    "language_info": {
      "name": "python"
    },
    "widgets": {
      "application/vnd.jupyter.widget-state+json": {
        "022c981ec53e4c35a502c0a6758011d3": {
          "model_module": "@jupyter-widgets/controls",
          "model_module_version": "1.5.0",
          "model_name": "HTMLModel",
          "state": {
            "_dom_classes": [],
            "_model_module": "@jupyter-widgets/controls",
            "_model_module_version": "1.5.0",
            "_model_name": "HTMLModel",
            "_view_count": null,
            "_view_module": "@jupyter-widgets/controls",
            "_view_module_version": "1.5.0",
            "_view_name": "HTMLView",
            "description": "",
            "description_tooltip": null,
            "layout": "IPY_MODEL_7ab92216f9c442bcb6bf32a564e14279",
            "placeholder": "​",
            "style": "IPY_MODEL_6cb5945915154c1f85764e95b6248a2a",
            "value": " 1/1 [00:00&lt;00:00, 18.51it/s]"
          }
        },
        "31c352385d81427b9120666220e9b062": {
          "model_module": "@jupyter-widgets/controls",
          "model_module_version": "1.5.0",
          "model_name": "HBoxModel",
          "state": {
            "_dom_classes": [],
            "_model_module": "@jupyter-widgets/controls",
            "_model_module_version": "1.5.0",
            "_model_name": "HBoxModel",
            "_view_count": null,
            "_view_module": "@jupyter-widgets/controls",
            "_view_module_version": "1.5.0",
            "_view_name": "HBoxView",
            "box_style": "",
            "children": [
              "IPY_MODEL_ab5944c3cf7540208470ad96de1059ea",
              "IPY_MODEL_d69d172625084f42adac19563f2560ad",
              "IPY_MODEL_022c981ec53e4c35a502c0a6758011d3"
            ],
            "layout": "IPY_MODEL_a1ffdf2315e741bab725dbd30cd548e3"
          }
        },
        "4cdb8c2afc154704a57a913987dce892": {
          "model_module": "@jupyter-widgets/base",
          "model_module_version": "1.2.0",
          "model_name": "LayoutModel",
          "state": {
            "_model_module": "@jupyter-widgets/base",
            "_model_module_version": "1.2.0",
            "_model_name": "LayoutModel",
            "_view_count": null,
            "_view_module": "@jupyter-widgets/base",
            "_view_module_version": "1.2.0",
            "_view_name": "LayoutView",
            "align_content": null,
            "align_items": null,
            "align_self": null,
            "border": null,
            "bottom": null,
            "display": null,
            "flex": null,
            "flex_flow": null,
            "grid_area": null,
            "grid_auto_columns": null,
            "grid_auto_flow": null,
            "grid_auto_rows": null,
            "grid_column": null,
            "grid_gap": null,
            "grid_row": null,
            "grid_template_areas": null,
            "grid_template_columns": null,
            "grid_template_rows": null,
            "height": null,
            "justify_content": null,
            "justify_items": null,
            "left": null,
            "margin": null,
            "max_height": null,
            "max_width": null,
            "min_height": null,
            "min_width": null,
            "object_fit": null,
            "object_position": null,
            "order": null,
            "overflow": null,
            "overflow_x": null,
            "overflow_y": null,
            "padding": null,
            "right": null,
            "top": null,
            "visibility": null,
            "width": null
          }
        },
        "4f7b1f1ac983434ca2f7faf631f7a3db": {
          "model_module": "@jupyter-widgets/controls",
          "model_module_version": "1.5.0",
          "model_name": "DescriptionStyleModel",
          "state": {
            "_model_module": "@jupyter-widgets/controls",
            "_model_module_version": "1.5.0",
            "_model_name": "DescriptionStyleModel",
            "_view_count": null,
            "_view_module": "@jupyter-widgets/base",
            "_view_module_version": "1.2.0",
            "_view_name": "StyleView",
            "description_width": ""
          }
        },
        "6cb5945915154c1f85764e95b6248a2a": {
          "model_module": "@jupyter-widgets/controls",
          "model_module_version": "1.5.0",
          "model_name": "DescriptionStyleModel",
          "state": {
            "_model_module": "@jupyter-widgets/controls",
            "_model_module_version": "1.5.0",
            "_model_name": "DescriptionStyleModel",
            "_view_count": null,
            "_view_module": "@jupyter-widgets/base",
            "_view_module_version": "1.2.0",
            "_view_name": "StyleView",
            "description_width": ""
          }
        },
        "7ab92216f9c442bcb6bf32a564e14279": {
          "model_module": "@jupyter-widgets/base",
          "model_module_version": "1.2.0",
          "model_name": "LayoutModel",
          "state": {
            "_model_module": "@jupyter-widgets/base",
            "_model_module_version": "1.2.0",
            "_model_name": "LayoutModel",
            "_view_count": null,
            "_view_module": "@jupyter-widgets/base",
            "_view_module_version": "1.2.0",
            "_view_name": "LayoutView",
            "align_content": null,
            "align_items": null,
            "align_self": null,
            "border": null,
            "bottom": null,
            "display": null,
            "flex": null,
            "flex_flow": null,
            "grid_area": null,
            "grid_auto_columns": null,
            "grid_auto_flow": null,
            "grid_auto_rows": null,
            "grid_column": null,
            "grid_gap": null,
            "grid_row": null,
            "grid_template_areas": null,
            "grid_template_columns": null,
            "grid_template_rows": null,
            "height": null,
            "justify_content": null,
            "justify_items": null,
            "left": null,
            "margin": null,
            "max_height": null,
            "max_width": null,
            "min_height": null,
            "min_width": null,
            "object_fit": null,
            "object_position": null,
            "order": null,
            "overflow": null,
            "overflow_x": null,
            "overflow_y": null,
            "padding": null,
            "right": null,
            "top": null,
            "visibility": null,
            "width": null
          }
        },
        "8e704a3d2e864b4c9241b4f647f1ef06": {
          "model_module": "@jupyter-widgets/controls",
          "model_module_version": "1.5.0",
          "model_name": "ProgressStyleModel",
          "state": {
            "_model_module": "@jupyter-widgets/controls",
            "_model_module_version": "1.5.0",
            "_model_name": "ProgressStyleModel",
            "_view_count": null,
            "_view_module": "@jupyter-widgets/base",
            "_view_module_version": "1.2.0",
            "_view_name": "StyleView",
            "bar_color": null,
            "description_width": ""
          }
        },
        "a1ffdf2315e741bab725dbd30cd548e3": {
          "model_module": "@jupyter-widgets/base",
          "model_module_version": "1.2.0",
          "model_name": "LayoutModel",
          "state": {
            "_model_module": "@jupyter-widgets/base",
            "_model_module_version": "1.2.0",
            "_model_name": "LayoutModel",
            "_view_count": null,
            "_view_module": "@jupyter-widgets/base",
            "_view_module_version": "1.2.0",
            "_view_name": "LayoutView",
            "align_content": null,
            "align_items": null,
            "align_self": null,
            "border": null,
            "bottom": null,
            "display": null,
            "flex": null,
            "flex_flow": null,
            "grid_area": null,
            "grid_auto_columns": null,
            "grid_auto_flow": null,
            "grid_auto_rows": null,
            "grid_column": null,
            "grid_gap": null,
            "grid_row": null,
            "grid_template_areas": null,
            "grid_template_columns": null,
            "grid_template_rows": null,
            "height": null,
            "justify_content": null,
            "justify_items": null,
            "left": null,
            "margin": null,
            "max_height": null,
            "max_width": null,
            "min_height": null,
            "min_width": null,
            "object_fit": null,
            "object_position": null,
            "order": null,
            "overflow": null,
            "overflow_x": null,
            "overflow_y": null,
            "padding": null,
            "right": null,
            "top": null,
            "visibility": null,
            "width": null
          }
        },
        "ab5944c3cf7540208470ad96de1059ea": {
          "model_module": "@jupyter-widgets/controls",
          "model_module_version": "1.5.0",
          "model_name": "HTMLModel",
          "state": {
            "_dom_classes": [],
            "_model_module": "@jupyter-widgets/controls",
            "_model_module_version": "1.5.0",
            "_model_name": "HTMLModel",
            "_view_count": null,
            "_view_module": "@jupyter-widgets/controls",
            "_view_module_version": "1.5.0",
            "_view_name": "HTMLView",
            "description": "",
            "description_tooltip": null,
            "layout": "IPY_MODEL_4cdb8c2afc154704a57a913987dce892",
            "placeholder": "​",
            "style": "IPY_MODEL_4f7b1f1ac983434ca2f7faf631f7a3db",
            "value": "100%"
          }
        },
        "ca4e0e8d99a94a88ad0ab43e31ae88a1": {
          "model_module": "@jupyter-widgets/base",
          "model_module_version": "1.2.0",
          "model_name": "LayoutModel",
          "state": {
            "_model_module": "@jupyter-widgets/base",
            "_model_module_version": "1.2.0",
            "_model_name": "LayoutModel",
            "_view_count": null,
            "_view_module": "@jupyter-widgets/base",
            "_view_module_version": "1.2.0",
            "_view_name": "LayoutView",
            "align_content": null,
            "align_items": null,
            "align_self": null,
            "border": null,
            "bottom": null,
            "display": null,
            "flex": null,
            "flex_flow": null,
            "grid_area": null,
            "grid_auto_columns": null,
            "grid_auto_flow": null,
            "grid_auto_rows": null,
            "grid_column": null,
            "grid_gap": null,
            "grid_row": null,
            "grid_template_areas": null,
            "grid_template_columns": null,
            "grid_template_rows": null,
            "height": null,
            "justify_content": null,
            "justify_items": null,
            "left": null,
            "margin": null,
            "max_height": null,
            "max_width": null,
            "min_height": null,
            "min_width": null,
            "object_fit": null,
            "object_position": null,
            "order": null,
            "overflow": null,
            "overflow_x": null,
            "overflow_y": null,
            "padding": null,
            "right": null,
            "top": null,
            "visibility": null,
            "width": null
          }
        },
        "d69d172625084f42adac19563f2560ad": {
          "model_module": "@jupyter-widgets/controls",
          "model_module_version": "1.5.0",
          "model_name": "FloatProgressModel",
          "state": {
            "_dom_classes": [],
            "_model_module": "@jupyter-widgets/controls",
            "_model_module_version": "1.5.0",
            "_model_name": "FloatProgressModel",
            "_view_count": null,
            "_view_module": "@jupyter-widgets/controls",
            "_view_module_version": "1.5.0",
            "_view_name": "ProgressView",
            "bar_style": "success",
            "description": "",
            "description_tooltip": null,
            "layout": "IPY_MODEL_ca4e0e8d99a94a88ad0ab43e31ae88a1",
            "max": 1,
            "min": 0,
            "orientation": "horizontal",
            "style": "IPY_MODEL_8e704a3d2e864b4c9241b4f647f1ef06",
            "value": 1
          }
        }
      }
    }
  },
  "nbformat": 4,
  "nbformat_minor": 0
}
